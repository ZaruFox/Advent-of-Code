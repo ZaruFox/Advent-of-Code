{
 "cells": [
  {
   "cell_type": "code",
   "execution_count": 14,
   "id": "settled-casino",
   "metadata": {},
   "outputs": [
    {
     "name": "stdout",
     "output_type": "stream",
     "text": [
      "8515\n"
     ]
    }
   ],
   "source": [
    "\"\"\"\n",
    "Lowercase item types a through z have priorities 1 through 26.\n",
    "Uppercase item types A through Z have priorities 27 through 52.\n",
    "\"\"\"\n",
    "import csv\n",
    "\n",
    "total = 0\n",
    "with open(\"data.txt\") as f:\n",
    "    for line in f:\n",
    "        firsthalf = line[0: len(line) // 2]\n",
    "        secondhalf = line[len(line) // 2: len(line)]\n",
    "        for chara in firsthalf:\n",
    "            if chara in secondhalf:\n",
    "                if chara.islower():\n",
    "                    total += ord(chara) - 96\n",
    "                else:\n",
    "                    total += ord(chara) - 64 + 26\n",
    "                break\n",
    "                    \n",
    "print(total)"
   ]
  },
  {
   "cell_type": "code",
   "execution_count": 1,
   "id": "hairy-technology",
   "metadata": {},
   "outputs": [
    {
     "name": "stdout",
     "output_type": "stream",
     "text": [
      "2434\n"
     ]
    }
   ],
   "source": [
    "total = 0\n",
    "counter = 0\n",
    "arr = []\n",
    "with open(\"data.txt\") as f:\n",
    "    for line in f:\n",
    "        arr.append(line.strip())\n",
    "        counter += 1\n",
    "        \n",
    "        if counter % 3 == 0:      \n",
    "            for char in arr[0]:\n",
    "                if char in arr[1] and char in arr[2]:\n",
    "                    matchingChara = char\n",
    "            \n",
    "            if matchingChara.islower():\n",
    "                total += ord(matchingChara) - 96\n",
    "            else:\n",
    "                total += ord(matchingChara) - 64 + 26\n",
    "                \n",
    "            arr = []\n",
    "            \n",
    "print(total)"
   ]
  },
  {
   "cell_type": "code",
   "execution_count": 7,
   "id": "0b819fa9-1d54-47d8-8fcf-f1247df54667",
   "metadata": {},
   "outputs": [
    {
     "name": "stdout",
     "output_type": "stream",
     "text": [
      "[18, 12, 5, 7, 14, 3, 15, 6, 4, 9, 17, 1, 0, 10, 19, 8, 2, 11, 13, 16]\n",
      "[0, 1, 2, 3, 4, 5, 6, 7, 8, 9, 10, 11, 12, 13, 14, 15, 16, 17, 18, 19]\n"
     ]
    }
   ],
   "source": [
    "import random\n",
    "\n",
    "def mergeSort(arr):\n",
    "    if len(arr) <= 1:\n",
    "        return arr\n",
    "\n",
    "    mid = len(arr) // 2\n",
    "    l = mergeSort(arr[:mid])\n",
    "    r = mergeSort(arr[mid:])\n",
    "\n",
    "    newArr = []\n",
    "    while len(l) > 0 and len(r) > 0:\n",
    "        if l[0] < r[0]:\n",
    "            newArr.append(l.pop(0))\n",
    "        else:\n",
    "            newArr.append(r.pop(0))\n",
    "\n",
    "    return newArr + l + r\n",
    "\n",
    "x = list(range(20))\n",
    "random.shuffle(x)\n",
    "print(x)\n",
    "print(mergeSort(x))"
   ]
  },
  {
   "cell_type": "code",
   "execution_count": 8,
   "id": "b754bae5-de25-44f6-b930-6ef3c791a0de",
   "metadata": {},
   "outputs": [
    {
     "name": "stdout",
     "output_type": "stream",
     "text": [
      "[13, 18, 10, 4, 15, 16, 2, 1, 8, 19, 14, 6, 5, 12, 17, 11, 7, 9, 0, 3]\n",
      "[0, 1, 2, 3, 4, 5, 6, 7, 8, 9, 10, 11, 12, 13, 14, 15, 16, 17, 18, 19]\n"
     ]
    }
   ],
   "source": [
    "import random\n",
    "\n",
    "def quickSort(arr):\n",
    "    if len(arr) <= 1:\n",
    "        return arr\n",
    "\n",
    "    pivot = arr[0]\n",
    "    l = []\n",
    "    r = []\n",
    "\n",
    "    for i in range(1, len(arr)):\n",
    "        if arr[i] > pivot:\n",
    "            r.append(arr[i])\n",
    "        else:\n",
    "            l.append(arr[i])\n",
    "\n",
    "    return quickSort(l) + [pivot] + quickSort(r)\n",
    "\n",
    "x = list(range(20))\n",
    "random.shuffle(x)\n",
    "print(x)\n",
    "print(quickSort(x))"
   ]
  },
  {
   "cell_type": "code",
   "execution_count": null,
   "id": "5f657354-0682-45f8-8672-fe559eaf44fe",
   "metadata": {},
   "outputs": [],
   "source": []
  }
 ],
 "metadata": {
  "kernelspec": {
   "display_name": "Python 3 (ipykernel)",
   "language": "python",
   "name": "python3"
  },
  "language_info": {
   "codemirror_mode": {
    "name": "ipython",
    "version": 3
   },
   "file_extension": ".py",
   "mimetype": "text/x-python",
   "name": "python",
   "nbconvert_exporter": "python",
   "pygments_lexer": "ipython3",
   "version": "3.11.2"
  }
 },
 "nbformat": 4,
 "nbformat_minor": 5
}
