{
 "cells": [
  {
   "cell_type": "code",
   "execution_count": 2,
   "id": "wrong-michael",
   "metadata": {},
   "outputs": [
    {
     "name": "stdout",
     "output_type": "stream",
     "text": [
      "3513\n"
     ]
    }
   ],
   "source": [
    "buffer = \"\"\n",
    "BUFFERLENGTH = 14\n",
    "with open(\"data.txt\") as f:\n",
    "    for line in f:\n",
    "        buffer = line[:BUFFERLENGTH]\n",
    "        \n",
    "        for i in range(BUFFERLENGTH, len(line)):\n",
    "            if len(set(buffer)) == BUFFERLENGTH:\n",
    "                print(i)\n",
    "                break\n",
    "            buffer = buffer[1:] + line[i]"
   ]
  }
 ],
 "metadata": {
  "kernelspec": {
   "display_name": "Python 3 (ipykernel)",
   "language": "python",
   "name": "python3"
  },
  "language_info": {
   "codemirror_mode": {
    "name": "ipython",
    "version": 3
   },
   "file_extension": ".py",
   "mimetype": "text/x-python",
   "name": "python",
   "nbconvert_exporter": "python",
   "pygments_lexer": "ipython3",
   "version": "3.11.2"
  }
 },
 "nbformat": 4,
 "nbformat_minor": 5
}
