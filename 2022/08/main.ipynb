{
 "cells": [
  {
   "cell_type": "code",
   "execution_count": 21,
   "id": "pacific-answer",
   "metadata": {},
   "outputs": [
    {
     "name": "stdout",
     "output_type": "stream",
     "text": [
      "1688\n"
     ]
    }
   ],
   "source": [
    "visibleList = []\n",
    "treeList = []\n",
    "\n",
    "with open(\"data.txt\") as f:\n",
    "    for line in f:\n",
    "        treeList.append([int(x) for x in list(line.strip())])\n",
    "        \n",
    "# left\n",
    "for line in range(len(treeList)):\n",
    "    tallest = treeList[line][0]\n",
    "    visibleList.append([line, 0])\n",
    "    for tree in range(1, len(treeList[line])):\n",
    "        if treeList[line][tree] > tallest:\n",
    "            visibleList.append([line, tree])\n",
    "            tallest = treeList[line][tree]\n",
    "            \n",
    "# right\n",
    "for line in range(len(treeList)):\n",
    "    tallest = treeList[line][len(treeList[line])-1]\n",
    "    visibleList.append([line, len(treeList[line])-1])\n",
    "    for tree in range(len(treeList[line])-2, -1, -1):\n",
    "        if treeList[line][tree] > tallest:\n",
    "            visibleList.append([line, tree])\n",
    "            tallest = treeList[line][tree]\n",
    "            \n",
    "# down\n",
    "for line in range(len(treeList[0])):\n",
    "    tallest = treeList[0][line]\n",
    "    visibleList.append([0, line])\n",
    "    for tree in range(1, len(treeList)):\n",
    "        if treeList[tree][line] > tallest:\n",
    "            visibleList.append([tree, line])\n",
    "            tallest = treeList[tree][line]\n",
    "            \n",
    "# right\n",
    "for line in range(len(treeList[0])):\n",
    "    tallest = treeList[len(treeList)-1][line]\n",
    "    visibleList.append([len(treeList)-1, line])\n",
    "    for tree in range(len(treeList)-2, -1, -1):\n",
    "        if treeList[tree][line] > tallest:\n",
    "            visibleList.append([tree, line])\n",
    "            tallest = treeList[tree][line]\n",
    "            \n",
    "            \n",
    "uniqueTreeList = []\n",
    "for i in visibleList:\n",
    "    if not i in uniqueTreeList:\n",
    "        uniqueTreeList.append(i)\n",
    "\n",
    "print(len(uniqueTreeList))\n",
    "        \n",
    "            "
   ]
  },
  {
   "cell_type": "code",
   "execution_count": 24,
   "id": "devoted-north",
   "metadata": {},
   "outputs": [
    {
     "name": "stdout",
     "output_type": "stream",
     "text": [
      "410400\n"
     ]
    }
   ],
   "source": [
    "treeList = []\n",
    "\n",
    "with open(\"data.txt\") as f:\n",
    "    for line in f:\n",
    "        treeList.append([int(x) for x in list(line.strip())])\n",
    "        \n",
    "scoresList = []\n",
    "for line in range(len(treeList)):\n",
    "    for tree in range(len(treeList[line])):\n",
    "        origin = treeList[line][tree]\n",
    "        score = 1\n",
    "        \n",
    "        counter = 0\n",
    "        for x in range(tree+1, len(treeList[line])):\n",
    "            counter += 1\n",
    "            if treeList[line][x] >= origin:\n",
    "                break\n",
    "        score *= counter\n",
    "        \n",
    "        counter = 0\n",
    "        for x in range(tree-1, -1, -1):\n",
    "            counter += 1\n",
    "            if treeList[line][x] >= origin:\n",
    "                break\n",
    "        score *= counter\n",
    "        \n",
    "        counter = 0\n",
    "        for y in range(line+1, len(treeList)):\n",
    "            counter += 1\n",
    "            if treeList[y][tree] >= origin:\n",
    "                break\n",
    "        score *= counter\n",
    "        \n",
    "        counter = 0\n",
    "        for y in range(line-1, -1, -1):\n",
    "            counter += 1\n",
    "            if treeList[y][tree] >= origin:\n",
    "                break\n",
    "        score *= counter\n",
    "        \n",
    "        scoresList.append(score)\n",
    "        \n",
    "print(max(scoresList))"
   ]
  }
 ],
 "metadata": {
  "kernelspec": {
   "display_name": "Python 3 (ipykernel)",
   "language": "python",
   "name": "python3"
  },
  "language_info": {
   "codemirror_mode": {
    "name": "ipython",
    "version": 3
   },
   "file_extension": ".py",
   "mimetype": "text/x-python",
   "name": "python",
   "nbconvert_exporter": "python",
   "pygments_lexer": "ipython3",
   "version": "3.11.2"
  }
 },
 "nbformat": 4,
 "nbformat_minor": 5
}
