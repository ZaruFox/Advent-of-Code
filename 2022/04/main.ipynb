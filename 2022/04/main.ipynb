{
 "cells": [
  {
   "cell_type": "code",
   "execution_count": 1,
   "id": "brutal-recipient",
   "metadata": {},
   "outputs": [
    {
     "name": "stdout",
     "output_type": "stream",
     "text": [
      "770\n"
     ]
    }
   ],
   "source": [
    "counter = 0\n",
    "with open(\"data.txt\") as f:\n",
    "    for line in f:\n",
    "        data = line.strip().split(\",\")\n",
    "        data = [x.split(\"-\") for x in data]\n",
    "        if (int(data[0][1]) >= int(data[1][0]) and int(data[1][1]) >= int(data[0][0])):\n",
    "            counter += 1\n",
    "            \n",
    "print(counter)"
   ]
  }
 ],
 "metadata": {
  "kernelspec": {
   "display_name": "Python 3 (ipykernel)",
   "language": "python",
   "name": "python3"
  },
  "language_info": {
   "codemirror_mode": {
    "name": "ipython",
    "version": 3
   },
   "file_extension": ".py",
   "mimetype": "text/x-python",
   "name": "python",
   "nbconvert_exporter": "python",
   "pygments_lexer": "ipython3",
   "version": "3.11.2"
  }
 },
 "nbformat": 4,
 "nbformat_minor": 5
}
