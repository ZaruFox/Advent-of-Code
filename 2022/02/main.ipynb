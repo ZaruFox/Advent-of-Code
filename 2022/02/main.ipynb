{
 "cells": [
  {
   "cell_type": "code",
   "execution_count": 3,
   "id": "adverse-gentleman",
   "metadata": {},
   "outputs": [
    {
     "name": "stdout",
     "output_type": "stream",
     "text": [
      "11150\n"
     ]
    }
   ],
   "source": [
    "#part 1\n",
    "POINTS = {\"X\": 1, \"Y\": 2, \"Z\": 3}\n",
    "WINCONDITION = {\"A\": \"Y\", \"B\": \"Z\", \"C\": \"X\"}\n",
    "\n",
    "total = 0\n",
    "with open(\"data.txt\") as f:\n",
    "    for line in f:\n",
    "        total += POINTS[line[2]]\n",
    "        \n",
    "        if WINCONDITION[line[0]] == line[2]:\n",
    "            total += 6\n",
    "        elif ord(line[0]) == ord(line[2]) - 23:\n",
    "            total += 3\n",
    "\n",
    "print(total)"
   ]
  },
  {
   "cell_type": "code",
   "execution_count": 5,
   "id": "historical-element",
   "metadata": {},
   "outputs": [
    {
     "name": "stdout",
     "output_type": "stream",
     "text": [
      "8295\n"
     ]
    }
   ],
   "source": [
    "#part 2\n",
    "POINTS = {\"X\": 0, \"Y\": 3, \"Z\": 6}\n",
    "LOSECONDITION = {\"A\": 3, \"B\": 1, \"C\": 2}\n",
    "TIECONDITION = {\"A\": 1, \"B\": 2, \"C\": 3}\n",
    "WINCONDITION = {\"A\": 2, \"B\": 3, \"C\": 1}\n",
    "\n",
    "total = 0\n",
    "with open(\"data.txt\") as f:\n",
    "    for line in f:\n",
    "        total += POINTS[line[2]]\n",
    "        \n",
    "        if line[2] == \"X\":\n",
    "            total += LOSECONDITION[line[0]]\n",
    "        elif line[2] == \"Y\":\n",
    "            total += TIECONDITION[line[0]]\n",
    "        else:\n",
    "            total += WINCONDITION[line[0]]\n",
    "\n",
    "print(total)"
   ]
  }
 ],
 "metadata": {
  "kernelspec": {
   "display_name": "Python 3 (ipykernel)",
   "language": "python",
   "name": "python3"
  },
  "language_info": {
   "codemirror_mode": {
    "name": "ipython",
    "version": 3
   },
   "file_extension": ".py",
   "mimetype": "text/x-python",
   "name": "python",
   "nbconvert_exporter": "python",
   "pygments_lexer": "ipython3",
   "version": "3.11.2"
  }
 },
 "nbformat": 4,
 "nbformat_minor": 5
}
