{
 "cells": [
  {
   "cell_type": "code",
   "execution_count": 1,
   "id": "interstate-procurement",
   "metadata": {},
   "outputs": [
    {
     "name": "stdout",
     "output_type": "stream",
     "text": [
      "223971851179174\n"
     ]
    }
   ],
   "source": [
    "monkeyDict = {}\n",
    "with open(\"data.txt\") as f:\n",
    "    for line in f:\n",
    "        lineData = line.strip().split(\":\")\n",
    "        if lineData[1].strip().isnumeric():\n",
    "            monkeyDict[lineData[0]] = int(lineData[1].strip())\n",
    "        else:\n",
    "            monkeyDict[lineData[0]] = lineData[1].strip()\n",
    "      \n",
    "\n",
    "while type(monkeyDict['root']) != int:\n",
    "    for key, value in monkeyDict.items():\n",
    "        if type(value) != int and type(value) != bool:\n",
    "            expression = value.split(\" \")\n",
    "            if type(monkeyDict[expression[0]]) == int and type(monkeyDict[expression[2]]) == int:\n",
    "                monkeyDict[key] = int(eval(f\"{monkeyDict[expression[0]]} {expression[1]} {monkeyDict[expression[2]]}\"))\n",
    "\n",
    "print(monkeyDict['root'])"
   ]
  },
  {
   "cell_type": "code",
   "execution_count": 2,
   "id": "express-guide",
   "metadata": {},
   "outputs": [
    {
     "name": "stdout",
     "output_type": "stream",
     "text": [
      "['humn', 3379022190351]\n"
     ]
    }
   ],
   "source": [
    "monkeyDict = {}\n",
    "with open(\"data.txt\") as f:\n",
    "    for line in f:\n",
    "        lineData = line.strip().split(\":\")\n",
    "        if lineData[1].strip().isnumeric():\n",
    "            monkeyDict[lineData[0]] = int(lineData[1].strip())\n",
    "        else:\n",
    "            monkeyDict[lineData[0]] = lineData[1].strip()\n",
    "      \n",
    "monkeyDict['humn'] = None\n",
    "while type(monkeyDict['bjft']) != int:\n",
    "    for key, value in monkeyDict.items():\n",
    "        if type(value) != int and key != 'humn' and key != 'root':\n",
    "            expression = value.split(\" \")\n",
    "            if type(monkeyDict[expression[0]]) == int and type(monkeyDict[expression[2]]) == int:\n",
    "                monkeyDict[key] = int(eval(f\"{monkeyDict[expression[0]]} {expression[1]} {monkeyDict[expression[2]]}\"))\n",
    "\n",
    "                \n",
    "\n",
    "# lntp = bjft\n",
    "OPPOSITEOPERATION = {\"+\":\"-\", \"-\":\"+\", \"*\":\"/\", \"/\":\"*\"}\n",
    "curNode = ['lntp', monkeyDict['bjft']]\n",
    "while curNode[0] != 'humn':\n",
    "    for key, value in monkeyDict.items():\n",
    "        if key == curNode[0]:\n",
    "            expression = value.split(\" \")\n",
    "            if type(monkeyDict[expression[2]]) == int:\n",
    "                curNode = [expression[0], int(eval(f\"{curNode[1]} {OPPOSITEOPERATION[expression[1]]} {monkeyDict[expression[2]]}\"))]\n",
    "            if type(monkeyDict[expression[0]]) == int:\n",
    "                if expression[1] in [\"+\", \"*\"]:\n",
    "                    curNode = [expression[2], int(eval(f\"{curNode[1]} {OPPOSITEOPERATION[expression[1]]} {monkeyDict[expression[0]]}\"))]\n",
    "                elif expression[1] == \"-\":\n",
    "                    curNode = [expression[2], -int(eval(f\"{curNode[1]} - {monkeyDict[expression[0]]}\"))]\n",
    "                elif expression[1] == \"/\":\n",
    "                    curNode = [expression[2], int(1/eval(f\"{curNode[1]} / {monkeyDict[expression[0]]}\"))]\n",
    "print(curNode)"
   ]
  }
 ],
 "metadata": {
  "kernelspec": {
   "display_name": "PyPy3",
   "language": "python",
   "name": "pypy3"
  },
  "language_info": {
   "codemirror_mode": {
    "name": "ipython",
    "version": 3
   },
   "file_extension": ".py",
   "mimetype": "text/x-python",
   "name": "python",
   "nbconvert_exporter": "python",
   "pygments_lexer": "ipython3",
   "version": "3.9.1"
  }
 },
 "nbformat": 4,
 "nbformat_minor": 5
}
