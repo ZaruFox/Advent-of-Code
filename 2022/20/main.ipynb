{
 "cells": [
  {
   "cell_type": "code",
   "execution_count": 94,
   "id": "better-benjamin",
   "metadata": {},
   "outputs": [
    {
     "name": "stdout",
     "output_type": "stream",
     "text": [
      "4360\n",
      "-1878 9186 -596\n",
      "6712\n"
     ]
    }
   ],
   "source": [
    "from copy import deepcopy\n",
    "\n",
    "#read in data\n",
    "originalArr = []\n",
    "\n",
    "with open(\"data.txt\") as f:\n",
    "    for line in f:\n",
    "        originalArr.append(int(line.strip()))\n",
    "        \n",
    "for i in range(len(originalArr)):\n",
    "    originalArr[i] = (i, originalArr[i])\n",
    "    \n",
    "decrpyterArr = deepcopy(originalArr)\n",
    "length = len(originalArr)\n",
    "for originalIndex, num in originalArr:\n",
    "    #print(decrpyterArr)\n",
    "    index = [y[0] for y in decrpyterArr].index(originalIndex)\n",
    "\n",
    "    newIndex = index+num\n",
    "    newIndex %= length-1\n",
    "\n",
    "    if num != 0:\n",
    "        temp = decrpyterArr.pop(index)\n",
    "        decrpyterArr.insert(newIndex, temp)\n",
    "\n",
    "    \n",
    "#print(decrpyterArr)\n",
    "for i in range(len(decrpyterArr)):\n",
    "    decrpyterArr[i] = decrpyterArr[i][1]\n",
    "    \n",
    "print(decrpyterArr.index(0))\n",
    "print(decrpyterArr[(decrpyterArr.index(0) + 1000)%length], decrpyterArr[(decrpyterArr.index(0) + 2000)%length], decrpyterArr[(decrpyterArr.index(0) + 3000)%length])\n",
    "print(decrpyterArr[(decrpyterArr.index(0) + 1000)%length] + decrpyterArr[(decrpyterArr.index(0) + 2000)%length] + decrpyterArr[(decrpyterArr.index(0) + 3000)%length])"
   ]
  },
  {
   "cell_type": "code",
   "execution_count": 99,
   "id": "sharp-surprise",
   "metadata": {},
   "outputs": [
    {
     "name": "stdout",
     "output_type": "stream",
     "text": [
      "4469\n",
      "1926712649222 2164508271051 -2495636645475\n",
      "1595584274798\n"
     ]
    }
   ],
   "source": [
    "from copy import deepcopy\n",
    "\n",
    "#read in data\n",
    "originalArr = []\n",
    "\n",
    "with open(\"data.txt\") as f:\n",
    "    for line in f:\n",
    "        originalArr.append(int(line.strip()) * 811589153)\n",
    "        \n",
    "for i in range(len(originalArr)):\n",
    "    originalArr[i] = (i, originalArr[i])\n",
    "    \n",
    "decrpyterArr = deepcopy(originalArr)\n",
    "length = len(originalArr)\n",
    "\n",
    "for _ in range(10):\n",
    "    for originalIndex, num in originalArr:\n",
    "        #print(decrpyterArr)\n",
    "        index = [x[0] for x in decrpyterArr].index(originalIndex)\n",
    "\n",
    "        newIndex = index+num\n",
    "        newIndex %= length-1\n",
    "\n",
    "        if num != 0:\n",
    "            temp = decrpyterArr.pop(index)\n",
    "            decrpyterArr.insert(newIndex, temp)\n",
    "\n",
    "    \n",
    "#print(decrpyterArr)\n",
    "for i in range(len(decrpyterArr)):\n",
    "    decrpyterArr[i] = decrpyterArr[i][1]\n",
    "    \n",
    "print(decrpyterArr.index(0))\n",
    "print(decrpyterArr[(decrpyterArr.index(0) + 1000)%length], decrpyterArr[(decrpyterArr.index(0) + 2000)%length], decrpyterArr[(decrpyterArr.index(0) + 3000)%length])\n",
    "print(decrpyterArr[(decrpyterArr.index(0) + 1000)%length] + decrpyterArr[(decrpyterArr.index(0) + 2000)%length] + decrpyterArr[(decrpyterArr.index(0) + 3000)%length])"
   ]
  }
 ],
 "metadata": {
  "kernelspec": {
   "display_name": "PyPy3",
   "language": "python",
   "name": "pypy3"
  },
  "language_info": {
   "codemirror_mode": {
    "name": "ipython",
    "version": 3
   },
   "file_extension": ".py",
   "mimetype": "text/x-python",
   "name": "python",
   "nbconvert_exporter": "python",
   "pygments_lexer": "ipython3",
   "version": "3.9.1"
  }
 },
 "nbformat": 4,
 "nbformat_minor": 5
}
