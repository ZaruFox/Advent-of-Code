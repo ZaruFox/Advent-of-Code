{
 "cells": [
  {
   "cell_type": "code",
   "execution_count": 16,
   "id": "large-insight",
   "metadata": {
    "scrolled": true
   },
   "outputs": [
    {
     "name": "stdout",
     "output_type": "stream",
     "text": [
      "20 16\n",
      "60 21\n",
      "100 17\n",
      "140 21\n",
      "180 21\n",
      "220 17\n",
      "13740\n"
     ]
    }
   ],
   "source": [
    "X = 1\n",
    "cycle = 1\n",
    "check = [20,60,100,140,180,220]\n",
    "sum_ = 0\n",
    "with open(\"data.txt\") as f:\n",
    "    for line in f:\n",
    "        lineData = line.strip().split(\" \")\n",
    "        if lineData[0] == \"noop\":\n",
    "            cycle += 1\n",
    "            if cycle in check:\n",
    "                sum_ += cycle * X\n",
    "            \n",
    "        else:\n",
    "            cycle += 1\n",
    "            if cycle in check:\n",
    "                sum_ += cycle * X\n",
    "            \n",
    "            X += int(lineData[1])\n",
    "            \n",
    "            cycle += 1\n",
    "            if cycle in check:\n",
    "                sum_ += cycle * X\n",
    "                \n",
    "print(sum_)"
   ]
  },
  {
   "cell_type": "code",
   "execution_count": 17,
   "id": "plastic-basket",
   "metadata": {},
   "outputs": [
    {
     "name": "stdout",
     "output_type": "stream",
     "text": [
      "####.#..#.###..###..####.####..##..#....\n",
      "...#.#..#.#..#.#..#.#....#....#..#.#....\n",
      "..#..#..#.#..#.#..#.###..###..#....#....\n",
      ".#...#..#.###..###..#....#....#....#....\n",
      "#....#..#.#....#.#..#....#....#..#.#...#\n",
      "####..##..#....#..#.#....####..##..####.\n"
     ]
    }
   ],
   "source": [
    "X = 1\n",
    "cycle = 1\n",
    "spriteLocation = [0,1,2]\n",
    "pixelLocations = []\n",
    "\n",
    "with open(\"data.txt\") as f:\n",
    "    for line in f:\n",
    "        lineData = line.strip().split(\" \")\n",
    "        \n",
    "        if lineData[0] == \"noop\":\n",
    "            if (cycle%40)-1 in spriteLocation:\n",
    "                pixelLocations.append(cycle-1)\n",
    "            cycle += 1\n",
    "            spriteLocation = [X-1, X, X+1]\n",
    "            \n",
    "        else:\n",
    "            if (cycle%40)-1 in spriteLocation:\n",
    "                pixelLocations.append(cycle-1)\n",
    "            cycle += 1\n",
    "            spriteLocation = [X-1, X, X+1]\n",
    "            \n",
    "            X += int(lineData[1])\n",
    "            \n",
    "            if (cycle%40)-1 in spriteLocation:\n",
    "                pixelLocations.append(cycle-1)\n",
    "            cycle += 1\n",
    "            spriteLocation = [X-1, X, X+1]\n",
    "            \n",
    "pos = 0\n",
    "for y in range(0,6):\n",
    "    for x in range(0,40):\n",
    "        if pos in pixelLocations:\n",
    "            print(\"#\", end=\"\")\n",
    "        else:\n",
    "            print(\".\", end=\"\")\n",
    "        counter+= 1\n",
    "    print()"
   ]
  }
 ],
 "metadata": {
  "kernelspec": {
   "display_name": "Python 3",
   "language": "python",
   "name": "python3"
  },
  "language_info": {
   "codemirror_mode": {
    "name": "ipython",
    "version": 3
   },
   "file_extension": ".py",
   "mimetype": "text/x-python",
   "name": "python",
   "nbconvert_exporter": "python",
   "pygments_lexer": "ipython3",
   "version": "3.9.1"
  }
 },
 "nbformat": 4,
 "nbformat_minor": 5
}
