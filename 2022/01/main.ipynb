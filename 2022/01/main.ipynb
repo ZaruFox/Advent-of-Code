{
 "cells": [
  {
   "cell_type": "code",
   "execution_count": 6,
   "id": "patient-report",
   "metadata": {},
   "outputs": [
    {
     "name": "stdout",
     "output_type": "stream",
     "text": [
      "66719\n"
     ]
    }
   ],
   "source": [
    "#part 1\n",
    "biggest = 0\n",
    "runningTotal = 0\n",
    "\n",
    "with open(\"data.txt\", \"r\") as f:\n",
    "    for line in f:\n",
    "        if line == \"\\n\":\n",
    "            if runningTotal > biggest:\n",
    "                biggest = runningTotal\n",
    "            runningTotal = 0\n",
    "        else:\n",
    "            runningTotal += int(line.strip())\n",
    "\n",
    "print(biggest)"
   ]
  },
  {
   "cell_type": "code",
   "execution_count": 1,
   "id": "rubber-hollywood",
   "metadata": {},
   "outputs": [
    {
     "name": "stdout",
     "output_type": "stream",
     "text": [
      "198551\n"
     ]
    }
   ],
   "source": [
    "#part 2 (not using sort() becus its for pussies)\n",
    "biggestArr = [0, 0, 0]\n",
    "runningTotal = 0\n",
    "\n",
    "with open(\"data.txt\", \"r\") as f:\n",
    "    for line in f:\n",
    "        if line == \"\\n\":\n",
    "            # weird insertion sort\n",
    "            swapped = False\n",
    "            for i in range(3):\n",
    "                if (not swapped) and runningTotal < biggestArr[i]:\n",
    "                    biggestArr.insert(i, runningTotal)\n",
    "                    biggestArr = biggestArr[1:4]\n",
    "                    swapped = True\n",
    "                    \n",
    "            if not swapped:\n",
    "                biggestArr = biggestArr[1:3] + [runningTotal]\n",
    "            \n",
    "            runningTotal = 0\n",
    "        else:\n",
    "            runningTotal += int(line.strip())\n",
    "\n",
    "print(sum(biggestArr))"
   ]
  }
 ],
 "metadata": {
  "kernelspec": {
   "display_name": "Python 3 (ipykernel)",
   "language": "python",
   "name": "python3"
  },
  "language_info": {
   "codemirror_mode": {
    "name": "ipython",
    "version": 3
   },
   "file_extension": ".py",
   "mimetype": "text/x-python",
   "name": "python",
   "nbconvert_exporter": "python",
   "pygments_lexer": "ipython3",
   "version": "3.11.2"
  }
 },
 "nbformat": 4,
 "nbformat_minor": 5
}
