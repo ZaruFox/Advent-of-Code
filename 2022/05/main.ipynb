{
 "cells": [
  {
   "cell_type": "code",
   "execution_count": 2,
   "id": "proper-customs",
   "metadata": {},
   "outputs": [
    {
     "name": "stdout",
     "output_type": "stream",
     "text": [
      "VRWBSFZWM\n"
     ]
    }
   ],
   "source": [
    "stacksDict = {1:[\"W\", \"M\", \"L\", \"F\"],2:[\"B\", \"Z\",\"V\",\"M\",\"F\"],3:[\"H\",\"V\",\"R\",\"S\",\"L\",\"Q\"],4:[\"F\",\"S\",\"V\",\"Q\",\"P\",\"M\",\"T\",\"J\"],5:[\"L\",\"S\",\"W\"],6:[\"F\",\"V\",\"P\",\"M\",\"R\",\"J\",\"W\"],7:[\"J\",\"Q\",\"C\",\"P\",\"N\",\"R\",\"F\"],8:[\"V\",\"H\",\"P\",\"S\",\"Z\",\"W\",\"R\",\"B\"],9:[\"B\",\"M\",\"J\",\"C\",\"G\",\"H\",\"Z\",\"W\"]}\n",
    "\n",
    "with open(\"data.txt\") as f:\n",
    "    for line in f:\n",
    "        data = line.split(\" \")\n",
    "        for i in range(int(data[1])):\n",
    "            stacksDict[int(data[5])].append(stacksDict[int(data[3])].pop())\n",
    "            \n",
    "output = \"\"\n",
    "for obj in stacksDict.values():\n",
    "    output += obj[-1]\n",
    "    \n",
    "print(output)"
   ]
  },
  {
   "cell_type": "code",
   "execution_count": 3,
   "id": "centered-logan",
   "metadata": {},
   "outputs": [
    {
     "name": "stdout",
     "output_type": "stream",
     "text": [
      "RBTWJWMCF\n"
     ]
    }
   ],
   "source": [
    "stacksDict = {1:[\"W\", \"M\", \"L\", \"F\"],2:[\"B\", \"Z\",\"V\",\"M\",\"F\"],3:[\"H\",\"V\",\"R\",\"S\",\"L\",\"Q\"],4:[\"F\",\"S\",\"V\",\"Q\",\"P\",\"M\",\"T\",\"J\"],5:[\"L\",\"S\",\"W\"],6:[\"F\",\"V\",\"P\",\"M\",\"R\",\"J\",\"W\"],7:[\"J\",\"Q\",\"C\",\"P\",\"N\",\"R\",\"F\"],8:[\"V\",\"H\",\"P\",\"S\",\"Z\",\"W\",\"R\",\"B\"],9:[\"B\",\"M\",\"J\",\"C\",\"G\",\"H\",\"Z\",\"W\"]}\n",
    "tempStack = []\n",
    "\n",
    "with open(\"data.txt\") as f:\n",
    "    for line in f:\n",
    "        data = line.split(\" \")\n",
    "        for i in range(int(data[1])):\n",
    "            tempStack.append(stacksDict[int(data[3])].pop())\n",
    "            \n",
    "        for i in range(int(data[1])): \n",
    "            stacksDict[int(data[5])].append(tempStack.pop())\n",
    "            \n",
    "            \n",
    "output = \"\"\n",
    "for obj in stacksDict.values():\n",
    "    output += obj[-1]\n",
    "    \n",
    "print(output)"
   ]
  }
 ],
 "metadata": {
  "kernelspec": {
   "display_name": "Python 3 (ipykernel)",
   "language": "python",
   "name": "python3"
  },
  "language_info": {
   "codemirror_mode": {
    "name": "ipython",
    "version": 3
   },
   "file_extension": ".py",
   "mimetype": "text/x-python",
   "name": "python",
   "nbconvert_exporter": "python",
   "pygments_lexer": "ipython3",
   "version": "3.11.2"
  }
 },
 "nbformat": 4,
 "nbformat_minor": 5
}
