{
 "cells": [
  {
   "cell_type": "code",
   "execution_count": 6,
   "id": "friendly-vertical",
   "metadata": {},
   "outputs": [
    {
     "name": "stdout",
     "output_type": "stream",
     "text": [
      "2-==10===-12=2-1=-=0\n"
     ]
    }
   ],
   "source": [
    "total = 0\n",
    "with open('data.txt') as f:\n",
    "    for line in f:\n",
    "        lineData = list(line.strip())[::-1]\n",
    "        prod = 1\n",
    "        lineTotal = 0\n",
    "        for num in lineData:\n",
    "            if num == \"=\":\n",
    "                num = \"-2\"\n",
    "            elif num == \"-\":\n",
    "                num = \"-1\"\n",
    "            lineTotal += int(num) * prod\n",
    "            prod *= 5\n",
    "            \n",
    "        total += lineTotal\n",
    "        \n",
    "\n",
    "result = \"\"\n",
    "while total != 0:\n",
    "    temp = total % 5\n",
    "    if temp == 3:\n",
    "        temp = \"=\"\n",
    "        total += 5\n",
    "    if temp == 4:\n",
    "        temp = \"-\"\n",
    "        total += 5\n",
    "        \n",
    "    result = str(temp) + result\n",
    "    total //= 5\n",
    "    \n",
    "print(result)"
   ]
  }
 ],
 "metadata": {
  "kernelspec": {
   "display_name": "PyPy3",
   "language": "python",
   "name": "pypy3"
  },
  "language_info": {
   "codemirror_mode": {
    "name": "ipython",
    "version": 3
   },
   "file_extension": ".py",
   "mimetype": "text/x-python",
   "name": "python",
   "nbconvert_exporter": "python",
   "pygments_lexer": "ipython3",
   "version": "3.9.1"
  }
 },
 "nbformat": 4,
 "nbformat_minor": 5
}
