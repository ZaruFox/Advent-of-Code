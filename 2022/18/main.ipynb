{
 "cells": [
  {
   "cell_type": "code",
   "execution_count": 5,
   "id": "industrial-being",
   "metadata": {},
   "outputs": [
    {
     "name": "stdout",
     "output_type": "stream",
     "text": [
      "4244\n"
     ]
    }
   ],
   "source": [
    "cubes = []\n",
    "with open(\"data.txt\") as f:\n",
    "    for line in f:\n",
    "        cubes.append([int(x) for x in line.strip().split(\",\")])\n",
    "        \n",
    "total = 0\n",
    "for cube in cubes:\n",
    "    sidesExposed = 6\n",
    "    for otherCube in cubes:\n",
    "        if abs(otherCube[0] - cube[0]) + abs(otherCube[1] - cube[1]) + abs(otherCube[2] - cube[2]) == 1:\n",
    "            sidesExposed -= 1\n",
    "    total += sidesExposed\n",
    "print(total)"
   ]
  },
  {
   "cell_type": "code",
   "execution_count": 34,
   "id": "abandoned-reserve",
   "metadata": {},
   "outputs": [
    {
     "name": "stdout",
     "output_type": "stream",
     "text": [
      "2460\n"
     ]
    }
   ],
   "source": [
    "cubes = []\n",
    "with open(\"data.txt\") as f:\n",
    "    for line in f:\n",
    "        cubes.append([int(x) for x in line.strip().split(\",\")])\n",
    "        \n",
    "total = 0\n",
    "locationOfSidesExposed = []\n",
    "for cube in cubes:\n",
    "    numberOfSidesExposed = 6\n",
    "    \n",
    "    sides = []\n",
    "    for i in range(-1,2):\n",
    "        for j in range(-1,2):\n",
    "            for k in range(-1,2):\n",
    "                sides.append([cube[0]+i, cube[1]+j, cube[2]+k])\n",
    "                \n",
    "    for otherCube in cubes:\n",
    "        if abs(otherCube[0] - cube[0]) + abs(otherCube[1] - cube[1]) + abs(otherCube[2] - cube[2]) == 1:\n",
    "            numberOfSidesExposed -= 1\n",
    "        if abs(otherCube[0] - cube[0]) in [0,1] and abs(otherCube[1] - cube[1]) in [0,1] and abs(otherCube[2] - cube[2]) in [0,1]:\n",
    "            sides.remove(otherCube)\n",
    "            \n",
    "    total += numberOfSidesExposed\n",
    "    locationOfSidesExposed += [[x, False] for x in sides]\n",
    "\n",
    "#removing sides on the exterior\n",
    "res = []\n",
    "for i in locationOfSidesExposed:\n",
    "    if not i in res:\n",
    "        res.append(i)\n",
    "locationOfSidesExposed = res\n",
    "\n",
    "\n",
    "locationOfSidesExposed[0][1] = True\n",
    "end = False\n",
    "while not end:\n",
    "    end = True\n",
    "    for cubeIndex in range(len(locationOfSidesExposed)):\n",
    "        cube = locationOfSidesExposed[cubeIndex]\n",
    "        if cube[1] == True:\n",
    "            end = False\n",
    "            for otherCube in locationOfSidesExposed:\n",
    "                if abs(otherCube[0][0] - cube[0][0]) + abs(otherCube[0][1] - cube[0][1]) + abs(otherCube[0][2] - cube[0][2]) == 1:\n",
    "                    otherCube[1] = True\n",
    "            locationOfSidesExposed.pop(cubeIndex)\n",
    "            break\n",
    "            \n",
    "for cube in locationOfSidesExposed:\n",
    "    for otherCube in cubes:\n",
    "        if abs(otherCube[0] - cube[0][0]) + abs(otherCube[1] - cube[0][1]) + abs(otherCube[2] - cube[0][2]) == 1:\n",
    "            total -= 1\n",
    "    \n",
    "print(total)"
   ]
  },
  {
   "cell_type": "code",
   "execution_count": null,
   "id": "sophisticated-exhibition",
   "metadata": {},
   "outputs": [],
   "source": []
  }
 ],
 "metadata": {
  "kernelspec": {
   "display_name": "Python 3",
   "language": "python",
   "name": "python3"
  },
  "language_info": {
   "codemirror_mode": {
    "name": "ipython",
    "version": 3
   },
   "file_extension": ".py",
   "mimetype": "text/x-python",
   "name": "python",
   "nbconvert_exporter": "python",
   "pygments_lexer": "ipython3",
   "version": "3.9.1"
  }
 },
 "nbformat": 4,
 "nbformat_minor": 5
}
