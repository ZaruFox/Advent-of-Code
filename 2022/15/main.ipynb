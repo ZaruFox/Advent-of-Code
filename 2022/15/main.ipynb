{
 "cells": [
  {
   "cell_type": "code",
   "execution_count": 4,
   "id": "fiscal-alpha",
   "metadata": {},
   "outputs": [
    {
     "name": "stdout",
     "output_type": "stream",
     "text": [
      "4725496\n"
     ]
    }
   ],
   "source": [
    "requiredRow = 2000000\n",
    "noBeaconPositions = []\n",
    "beaconPositions = []\n",
    "\n",
    "with open(\"data.txt\") as f:\n",
    "    for line in f:\n",
    "        lineData = line.strip().split(\" \")\n",
    "        \n",
    "        sensorPos = [int(lineData[2][2:-1]), int(lineData[3][2:-1])]\n",
    "        beaconPos = [int(lineData[8][2:-1]), int(lineData[9][2:])]\n",
    "        if beaconPos[1] == requiredRow:\n",
    "            beaconPositions.append(beaconPos[0])\n",
    "        \n",
    "        distanceFromBeacon = abs(sensorPos[1] - beaconPos[1]) + abs(sensorPos[0] - beaconPos[0])\n",
    "        distanceFromRow = abs(sensorPos[1] - requiredRow)\n",
    "        if distanceFromRow <= distanceFromBeacon:\n",
    "            difference = distanceFromBeacon - distanceFromRow\n",
    "            noBeaconPositions += list(range(sensorPos[0]-difference, sensorPos[0]+difference+1))\n",
    "        \n",
    "\n",
    "                    \n",
    "print(len(set(noBeaconPositions)-set(beaconPositions)))"
   ]
  },
  {
   "cell_type": "code",
   "execution_count": 1,
   "id": "assigned-wells",
   "metadata": {},
   "outputs": [
    {
     "name": "stdout",
     "output_type": "stream",
     "text": [
      "0 33\n",
      "1 33\n",
      "2 33\n",
      "3 33\n",
      "4 33\n",
      "5 33\n",
      "6 33\n",
      "[3012821, 3042458]\n",
      "12051287042458\n"
     ]
    },
    {
     "ename": "SystemExit",
     "evalue": "",
     "output_type": "error",
     "traceback": [
      "An exception has occurred, use %tb to see the full traceback.\n",
      "\u001b[1;31mSystemExit\u001b[0m\n"
     ]
    },
    {
     "name": "stderr",
     "output_type": "stream",
     "text": [
      "c:\\python39\\lib\\site-packages\\IPython\\core\\interactiveshell.py:3445: UserWarning: To exit: use 'exit', 'quit', or Ctrl-D.\n",
      "  warn(\"To exit: use 'exit', 'quit', or Ctrl-D.\", stacklevel=1)\n"
     ]
    }
   ],
   "source": [
    "import sys\n",
    "from IPython.display import clear_output\n",
    "\n",
    "checkPosition = []\n",
    "sensors = {}\n",
    "def calDistance(sensorPos, beaconPos):\n",
    "    return abs(sensorPos[1] - beaconPos[1]) + abs(sensorPos[0] - beaconPos[0])\n",
    "\n",
    "with open(\"data.txt\") as f:\n",
    "    for line in f:\n",
    "        lineData = line.strip().split(\" \")\n",
    "        \n",
    "        sensorPos = [int(lineData[2][2:-1]), int(lineData[3][2:-1])]\n",
    "        beaconPos = [int(lineData[8][2:-1]), int(lineData[9][2:])]\n",
    "\n",
    "        distanceFromBeacon = calDistance(sensorPos, beaconPos)\n",
    "        sensors[\",\".join([str(x) for x in sensorPos])] = distanceFromBeacon\n",
    "        \n",
    "counter = 0\n",
    "for curBeaconLocation, distance in sensors.items():\n",
    "    print(counter, len(sensors))\n",
    "    counter += 1\n",
    "    curBeaconLocation = [int(x) for x in curBeaconLocation.split(\",\")]\n",
    "    \n",
    "    xDiff = 0\n",
    "    xDiffIncreasing = True\n",
    "    for y in range(curBeaconLocation[1]-distance-1,curBeaconLocation[1]+distance+2):\n",
    "        for x in [curBeaconLocation[0]-xDiff, curBeaconLocation[0]+xDiff]:\n",
    "            noBeacon = False\n",
    "            for checkBeaconLocation, checkDistance in sensors.items():\n",
    "                checkBeaconLocation = [int(x) for x in checkBeaconLocation.split(\",\")]\n",
    "                if calDistance(checkBeaconLocation, [x,y]) <= checkDistance:\n",
    "                    noBeacon = True\n",
    "                    break\n",
    "            if not noBeacon and 0 <= x <= 4000000 and 0 <= y <= 4000000:\n",
    "                print([x,y])\n",
    "                print(x*4000000 + y)\n",
    "                sys.exit(\"\")\n",
    "                \n",
    "        if xDiff == distance:\n",
    "            xDiffIncreasing = False\n",
    "            \n",
    "        if xDiffIncreasing:\n",
    "            xDiff += 1\n",
    "        else:\n",
    "            xDiff -= 1\n"
   ]
  },
  {
   "cell_type": "code",
   "execution_count": 2,
   "id": "coordinated-dutch",
   "metadata": {},
   "outputs": [
    {
     "name": "stdout",
     "output_type": "stream",
     "text": [
      "\n"
     ]
    }
   ],
   "source": [
    "sensors = []\n",
    "\n",
    "def merge_intervals(intervals):\n",
    "    intervals.sort(key=lambda x: x[0])\n",
    "    curridx = 0\n",
    "    for i in range(1, len(intervals)):\n",
    "        if intervals[curridx][1] >= intervals[i][0]:\n",
    "            # Merge both\n",
    "            intervals[curridx][1] = max(intervals[curridx][1], intervals[i][1])\n",
    "        else:\n",
    "            # Separate interval\n",
    "            curridx += 1\n",
    "            intervals[curridx] = intervals[i]\n",
    "    return intervals[0:curridx+1]\n",
    "\n",
    "with open(\"data.txt\") as f:\n",
    "    for line in f:\n",
    "        lineData = line.strip().split(\" \")\n",
    "\n",
    "        sensorPos = [int(lineData[2][2:-1]), int(lineData[3][2:-1])]\n",
    "        beaconPos = [int(lineData[8][2:-1]), int(lineData[9][2:])]\n",
    "        distanceFromBeacon = abs(sensorPos[1] - beaconPos[1]) + abs(sensorPos[0] - beaconPos[0])\n",
    "        sensors.append(sensorPos+[distanceFromBeacon])\n",
    "\n",
    "\n",
    "for requiredRow in range(0, 4000001):\n",
    "    if requiredRow % 25000 == 0:\n",
    "        print(\"Checking: y =\", requiredRow)\n",
    "    noBeaconPositions = []\n",
    "\n",
    "    for sensorPos in sensors:\n",
    "        distanceFromRow = abs(sensorPos[1] - requiredRow)\n",
    "        if distanceFromRow <= sensorPos[2]:\n",
    "            difference = sensorPos[2] - distanceFromRow\n",
    "            noBeaconPositions += [[max(0, sensorPos[0] - difference), min(sensorPos[0] + difference, 4000000)]]\n",
    "            \n",
    "    temp = merge_intervals(noBeaconPositions)\n",
    "    if len(temp) > 1:\n",
    "        print(temp)\n",
    "        break"
   ]
  }
 ],
 "metadata": {
  "kernelspec": {
   "display_name": "Python 3",
   "language": "python",
   "name": "python3"
  },
  "language_info": {
   "codemirror_mode": {
    "name": "ipython",
    "version": 3
   },
   "file_extension": ".py",
   "mimetype": "text/x-python",
   "name": "python",
   "nbconvert_exporter": "python",
   "pygments_lexer": "ipython3",
   "version": "3.9.1"
  }
 },
 "nbformat": 4,
 "nbformat_minor": 5
}
