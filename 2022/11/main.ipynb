{
 "cells": [
  {
   "cell_type": "code",
   "execution_count": 6,
   "id": "convertible-worth",
   "metadata": {},
   "outputs": [
    {
     "name": "stdout",
     "output_type": "stream",
     "text": [
      "12848882750\n"
     ]
    }
   ],
   "source": [
    "monkeyHeld = [[64], [60, 84, 84, 65], [52, 67, 74, 88, 51, 61], [67, 72], [80, 79, 58, 77, 68, 74, 98, 64], [62, 53, 61, 89, 86],[86, 89, 82], [92, 81, 70, 96, 69, 84, 83]]\n",
    "monkeyOperation = [\"old * 7\", \"old + 7\", \"old * 3\", \"old + 3\", \"old * old\", \"old + 8\", \"old + 2\", \"old + 4\"]\n",
    "monkeyTest = [13,19,5,2,17,11,7,3]\n",
    "monkeyThrow = [[1,3],[2,7],[5,7],[1,2],[6,0],[4,6],[3,0],[4,5]]\n",
    "count = [0,0,0,0,0,0,0,0]\n",
    "\n",
    "for lst in monkeyHeld:\n",
    "    for item in range(len(lst)):\n",
    "        newList = []\n",
    "        for i in monkeyTest:\n",
    "            newList.append(lst[item]%i)\n",
    "        lst[item] = newList\n",
    "\n",
    "\n",
    "for j in range(10000):\n",
    "    print(j, end=\"\\r\")\n",
    "    for i in range(8):\n",
    "        for item in range(len(monkeyHeld[i])):\n",
    "            count[i] += 1\n",
    "            \n",
    "            for num in range(len(monkeyHeld[i][item])):\n",
    "                old = monkeyHeld[i][item][num]\n",
    "                monkeyHeld[i][item][num] = eval(monkeyOperation[i])\n",
    "                monkeyHeld[i][item][num] %= monkeyTest[num]\n",
    "                 \n",
    "            if monkeyHeld[i][item][i] == 0:\n",
    "                monkeyHeld[monkeyThrow[i][0]].append(monkeyHeld[i][item])\n",
    "            else:\n",
    "                monkeyHeld[monkeyThrow[i][1]].append(monkeyHeld[i][item])\n",
    "        monkeyHeld[i] = []\n",
    "        \n",
    "count.sort()\n",
    "print(count[-1] * count[-2])\n",
    "\n"
   ]
  },
  {
   "cell_type": "code",
   "execution_count": 8,
   "id": "married-outdoors",
   "metadata": {},
   "outputs": [
    {
     "name": "stdout",
     "output_type": "stream",
     "text": [
      "2713310158\n"
     ]
    }
   ],
   "source": [
    "monkeyHeld = [[79, 98], [54, 65, 75, 74], [79, 60, 97], [74]]\n",
    "monkeyOperation = [\"old * 19\", \"old + 6\", \"old * old\", \"old + 3\"]\n",
    "monkeyTest = [23, 19, 13, 17]\n",
    "monkeyThrow = [[2,3], [2,0], [1,3], [0,1]]\n",
    "count = [0,0,0,0]\n",
    "for lst in monkeyHeld:\n",
    "    for item in range(len(lst)):\n",
    "        newList = []\n",
    "        for i in monkeyTest:\n",
    "            newList.append(lst[item]%i)\n",
    "        lst[item] = newList\n",
    "\n",
    "\n",
    "for j in range(10000):\n",
    "    print(j, end=\"\\r\")\n",
    "    for i in range(4):\n",
    "        for item in range(len(monkeyHeld[i])):\n",
    "            count[i] += 1\n",
    "            \n",
    "            for num in range(len(monkeyHeld[i][item])):\n",
    "                old = monkeyHeld[i][item][num]\n",
    "                monkeyHeld[i][item][num] = eval(monkeyOperation[i])\n",
    "                monkeyHeld[i][item][num] %= monkeyTest[num]\n",
    "                 \n",
    "            if monkeyHeld[i][item][i] == 0:\n",
    "                monkeyHeld[monkeyThrow[i][0]].append(monkeyHeld[i][item])\n",
    "            else:\n",
    "                monkeyHeld[monkeyThrow[i][1]].append(monkeyHeld[i][item])\n",
    "        monkeyHeld[i] = []\n",
    "        \n",
    "count.sort()\n",
    "print(count[-1] * count[-2])"
   ]
  }
 ],
 "metadata": {
  "kernelspec": {
   "display_name": "Python 3",
   "language": "python",
   "name": "python3"
  },
  "language_info": {
   "codemirror_mode": {
    "name": "ipython",
    "version": 3
   },
   "file_extension": ".py",
   "mimetype": "text/x-python",
   "name": "python",
   "nbconvert_exporter": "python",
   "pygments_lexer": "ipython3",
   "version": "3.9.1"
  }
 },
 "nbformat": 4,
 "nbformat_minor": 5
}
